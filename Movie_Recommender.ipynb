{
  "nbformat": 4,
  "nbformat_minor": 0,
  "metadata": {
    "colab": {
      "name": "Movie Recommender.ipynb",
      "provenance": [],
      "collapsed_sections": [],
      "mount_file_id": "1f5gcj5OuBP6j3wMtTsVAZqS_XpJ5Gktu",
      "authorship_tag": "ABX9TyNAcHMQnSyPmEBqJv6ZAMQ0",
      "include_colab_link": true
    },
    "kernelspec": {
      "name": "python3",
      "display_name": "Python 3"
    },
    "language_info": {
      "name": "python"
    }
  },
  "cells": [
    {
      "cell_type": "markdown",
      "metadata": {
        "id": "view-in-github",
        "colab_type": "text"
      },
      "source": [
        "<a href=\"https://colab.research.google.com/github/arpitkj/Movie-recommender/blob/new_branch/Movie_Recommender.ipynb\" target=\"_parent\"><img src=\"https://colab.research.google.com/assets/colab-badge.svg\" alt=\"Open In Colab\"/></a>"
      ]
    },
    {
      "cell_type": "code",
      "metadata": {
        "id": "PpSioQOLD-LJ"
      },
      "source": [
        "#importing libraries\n",
        "import numpy as np\n",
        "import pandas as pd"
      ],
      "execution_count": 1,
      "outputs": []
    },
    {
      "cell_type": "code",
      "metadata": {
        "id": "8HTMtRK5F6R9"
      },
      "source": [
        "#reading files from Movielens dataset\n",
        "data = pd.io.parsers.read_csv('/content/drive/MyDrive/movie recommender/ml-1m/ratings.dat', names=['user_id', 'movie_id', 'rating', 'time'], engine='python', delimiter='::')\n",
        "\n",
        "movie_data = pd.io.parsers.read_csv('/content/drive/MyDrive/movie recommender/ml-1m/movies.dat',names=['movie_id', 'title', 'genre'],engine='python', delimiter='::')"
      ],
      "execution_count": 3,
      "outputs": []
    },
    {
      "cell_type": "code",
      "metadata": {
        "colab": {
          "base_uri": "https://localhost:8080/",
          "height": 206
        },
        "id": "v4kJLbTdNJps",
        "outputId": "ff64b838-724f-487f-8cbc-12393fc2addd"
      },
      "source": [
        "data.head()"
      ],
      "execution_count": 10,
      "outputs": [
        {
          "output_type": "execute_result",
          "data": {
            "text/html": [
              "<div>\n",
              "<style scoped>\n",
              "    .dataframe tbody tr th:only-of-type {\n",
              "        vertical-align: middle;\n",
              "    }\n",
              "\n",
              "    .dataframe tbody tr th {\n",
              "        vertical-align: top;\n",
              "    }\n",
              "\n",
              "    .dataframe thead th {\n",
              "        text-align: right;\n",
              "    }\n",
              "</style>\n",
              "<table border=\"1\" class=\"dataframe\">\n",
              "  <thead>\n",
              "    <tr style=\"text-align: right;\">\n",
              "      <th></th>\n",
              "      <th>user_id</th>\n",
              "      <th>movie_id</th>\n",
              "      <th>rating</th>\n",
              "      <th>time</th>\n",
              "    </tr>\n",
              "  </thead>\n",
              "  <tbody>\n",
              "    <tr>\n",
              "      <th>0</th>\n",
              "      <td>1</td>\n",
              "      <td>1193</td>\n",
              "      <td>5</td>\n",
              "      <td>978300760</td>\n",
              "    </tr>\n",
              "    <tr>\n",
              "      <th>1</th>\n",
              "      <td>1</td>\n",
              "      <td>661</td>\n",
              "      <td>3</td>\n",
              "      <td>978302109</td>\n",
              "    </tr>\n",
              "    <tr>\n",
              "      <th>2</th>\n",
              "      <td>1</td>\n",
              "      <td>914</td>\n",
              "      <td>3</td>\n",
              "      <td>978301968</td>\n",
              "    </tr>\n",
              "    <tr>\n",
              "      <th>3</th>\n",
              "      <td>1</td>\n",
              "      <td>3408</td>\n",
              "      <td>4</td>\n",
              "      <td>978300275</td>\n",
              "    </tr>\n",
              "    <tr>\n",
              "      <th>4</th>\n",
              "      <td>1</td>\n",
              "      <td>2355</td>\n",
              "      <td>5</td>\n",
              "      <td>978824291</td>\n",
              "    </tr>\n",
              "  </tbody>\n",
              "</table>\n",
              "</div>"
            ],
            "text/plain": [
              "   user_id  movie_id  rating       time\n",
              "0        1      1193       5  978300760\n",
              "1        1       661       3  978302109\n",
              "2        1       914       3  978301968\n",
              "3        1      3408       4  978300275\n",
              "4        1      2355       5  978824291"
            ]
          },
          "metadata": {},
          "execution_count": 10
        }
      ]
    },
    {
      "cell_type": "code",
      "metadata": {
        "colab": {
          "base_uri": "https://localhost:8080/",
          "height": 206
        },
        "id": "kOgnClSkNOee",
        "outputId": "716122b1-80b0-4afb-bf5a-05281dedd3b0"
      },
      "source": [
        "movie_data.head()"
      ],
      "execution_count": 11,
      "outputs": [
        {
          "output_type": "execute_result",
          "data": {
            "text/html": [
              "<div>\n",
              "<style scoped>\n",
              "    .dataframe tbody tr th:only-of-type {\n",
              "        vertical-align: middle;\n",
              "    }\n",
              "\n",
              "    .dataframe tbody tr th {\n",
              "        vertical-align: top;\n",
              "    }\n",
              "\n",
              "    .dataframe thead th {\n",
              "        text-align: right;\n",
              "    }\n",
              "</style>\n",
              "<table border=\"1\" class=\"dataframe\">\n",
              "  <thead>\n",
              "    <tr style=\"text-align: right;\">\n",
              "      <th></th>\n",
              "      <th>movie_id</th>\n",
              "      <th>title</th>\n",
              "      <th>genre</th>\n",
              "    </tr>\n",
              "  </thead>\n",
              "  <tbody>\n",
              "    <tr>\n",
              "      <th>0</th>\n",
              "      <td>1</td>\n",
              "      <td>Toy Story (1995)</td>\n",
              "      <td>Animation|Children's|Comedy</td>\n",
              "    </tr>\n",
              "    <tr>\n",
              "      <th>1</th>\n",
              "      <td>2</td>\n",
              "      <td>Jumanji (1995)</td>\n",
              "      <td>Adventure|Children's|Fantasy</td>\n",
              "    </tr>\n",
              "    <tr>\n",
              "      <th>2</th>\n",
              "      <td>3</td>\n",
              "      <td>Grumpier Old Men (1995)</td>\n",
              "      <td>Comedy|Romance</td>\n",
              "    </tr>\n",
              "    <tr>\n",
              "      <th>3</th>\n",
              "      <td>4</td>\n",
              "      <td>Waiting to Exhale (1995)</td>\n",
              "      <td>Comedy|Drama</td>\n",
              "    </tr>\n",
              "    <tr>\n",
              "      <th>4</th>\n",
              "      <td>5</td>\n",
              "      <td>Father of the Bride Part II (1995)</td>\n",
              "      <td>Comedy</td>\n",
              "    </tr>\n",
              "  </tbody>\n",
              "</table>\n",
              "</div>"
            ],
            "text/plain": [
              "   movie_id                               title                         genre\n",
              "0         1                    Toy Story (1995)   Animation|Children's|Comedy\n",
              "1         2                      Jumanji (1995)  Adventure|Children's|Fantasy\n",
              "2         3             Grumpier Old Men (1995)                Comedy|Romance\n",
              "3         4            Waiting to Exhale (1995)                  Comedy|Drama\n",
              "4         5  Father of the Bride Part II (1995)                        Comedy"
            ]
          },
          "metadata": {},
          "execution_count": 11
        }
      ]
    },
    {
      "cell_type": "code",
      "metadata": {
        "id": "OT10cLFUF9pU"
      },
      "source": [
        "#Creating the ratings matrix with rows as movies and columns as users\n",
        "ratings_mat = np.ndarray(shape=(np.max(data.movie_id.values), np.max(data.user_id.values)),dtype=np.uint8)\n",
        "\n",
        "ratings_mat[data.movie_id.values-1, data.user_id.values-1] = data.rating.values"
      ],
      "execution_count": 4,
      "outputs": []
    },
    {
      "cell_type": "code",
      "metadata": {
        "id": "I4yvyIOcGAsz"
      },
      "source": [
        "#normalising matrix\n",
        "normalised_mat = ratings_mat - np.asarray([(np.mean(ratings_mat, 1))]).T"
      ],
      "execution_count": 5,
      "outputs": []
    },
    {
      "cell_type": "code",
      "metadata": {
        "id": "tEwPV8BOGETv"
      },
      "source": [
        "#computing svd\n",
        "A = normalised_mat.T / np.sqrt(ratings_mat.shape[0] - 1)\n",
        "U, S, V = np.linalg.svd(A)"
      ],
      "execution_count": 6,
      "outputs": []
    },
    {
      "cell_type": "code",
      "metadata": {
        "id": "DU1FFPmWGIIO"
      },
      "source": [
        "#calculating cosine similarity and returning top n results\n",
        "def top_cosine_similarity(data, movie_id, top_n=10):\n",
        "    index = movie_id - 1 # Movie id starts from 1\n",
        "    movie_row = data[index, :]\n",
        "    magnitude = np.sqrt(np.einsum('ij, ij -> i', data, data))\n",
        "    similarity = np.dot(movie_row, data.T) / (magnitude[index] * magnitude)\n",
        "    sort_indexes = np.argsort(-similarity)\n",
        "    return sort_indexes[:top_n]\n",
        "\n",
        "# Helper function to print top N similar movies\n",
        "def print_similar_movies(movie_data, movie_id, top_indexes):\n",
        "    print('Recommendations for {0}: \\n'.format(\n",
        "    movie_data[movie_data.movie_id == movie_id].title.values[0]))\n",
        "    for id in top_indexes + 1:\n",
        "        print(movie_data[movie_data.movie_id == id].title.values[0])"
      ],
      "execution_count": 7,
      "outputs": []
    },
    {
      "cell_type": "code",
      "metadata": {
        "colab": {
          "base_uri": "https://localhost:8080/"
        },
        "id": "jyg1mMe4GK_x",
        "outputId": "bed96803-bbc0-4381-cc2e-4a70dc34d53b"
      },
      "source": [
        "#Select  principal components to represent the movies, a movie_id to find recommendations and print the top_n results.\n",
        "k = 50\n",
        "movie_id = 2 # Grab an id from movies.dat\n",
        "top_n = 10\n",
        "\n",
        "sliced = V.T[:, :k] # representative data\n",
        "indexes = top_cosine_similarity(sliced, movie_id, top_n)\n",
        "print_similar_movies(movie_data, movie_id, indexes)\n"
      ],
      "execution_count": 9,
      "outputs": [
        {
          "output_type": "stream",
          "name": "stdout",
          "text": [
            "Recommendations for Jumanji (1995): \n",
            "\n",
            "Jumanji (1995)\n",
            "Indian in the Cupboard, The (1995)\n",
            "NeverEnding Story III, The (1994)\n",
            "Cutthroat Island (1995)\n",
            "Muppet Treasure Island (1996)\n",
            "Honey, I Shrunk the Kids (1989)\n",
            "Flubber (1997)\n",
            "Prince of Egypt, The (1998)\n",
            "Hercules (1997)\n",
            "Flight of the Navigator (1986)\n"
          ]
        }
      ]
    }
  ]
}